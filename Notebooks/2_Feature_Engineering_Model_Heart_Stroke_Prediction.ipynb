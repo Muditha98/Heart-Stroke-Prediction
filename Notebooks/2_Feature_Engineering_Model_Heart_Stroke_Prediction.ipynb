{
 "cells": [
  {
   "cell_type": "markdown",
   "id": "fc995cb4-f687-414d-8f6e-a32b0827c132",
   "metadata": {},
   "source": [
    "# Data Pre-Processing"
   ]
  },
  {
   "cell_type": "markdown",
   "id": "6625ab70-038c-42fd-b947-31a7a301c4aa",
   "metadata": {},
   "source": [
    "#### Import packages and CSV file"
   ]
  },
  {
   "cell_type": "code",
   "execution_count": 1,
   "id": "0ea93f2a-13d2-432d-8902-45ed4082b913",
   "metadata": {},
   "outputs": [
    {
     "name": "stderr",
     "output_type": "stream",
     "text": [
      "C:\\Users\\Dhananjana\\AppData\\Roaming\\Python\\Python310\\site-packages\\pandas\\core\\arrays\\masked.py:60: UserWarning: Pandas requires version '1.3.6' or newer of 'bottleneck' (version '1.3.5' currently installed).\n",
      "  from pandas.core import (\n"
     ]
    }
   ],
   "source": [
    "import pandas as pd\n",
    "import numpy as np\n",
    "import matplotlib.pyplot as plt\n",
    "import seaborn as sns\n",
    "import warnings\n",
    "warnings.filterwarnings(\"ignore\")\n",
    "pd.pandas.set_option(\"display.max_columns\", None)"
   ]
  },
  {
   "cell_type": "code",
   "execution_count": 18,
   "id": "08174bc4-9dd8-4454-b4ec-008dfc2d7b2f",
   "metadata": {},
   "outputs": [],
   "source": [
    "df = pd.read_csv('Data/stroke_dataset.csv')"
   ]
  },
  {
   "cell_type": "code",
   "execution_count": 19,
   "id": "a9b9a76c-1174-400c-ba52-19d2390e598c",
   "metadata": {},
   "outputs": [
    {
     "data": {
      "text/plain": [
       "(5110, 12)"
      ]
     },
     "execution_count": 19,
     "metadata": {},
     "output_type": "execute_result"
    }
   ],
   "source": [
    "df.shape"
   ]
  },
  {
   "cell_type": "code",
   "execution_count": 20,
   "id": "ec490abd-e142-45c9-b637-d4a6c81965d2",
   "metadata": {},
   "outputs": [
    {
     "data": {
      "text/html": [
       "<div>\n",
       "<style scoped>\n",
       "    .dataframe tbody tr th:only-of-type {\n",
       "        vertical-align: middle;\n",
       "    }\n",
       "\n",
       "    .dataframe tbody tr th {\n",
       "        vertical-align: top;\n",
       "    }\n",
       "\n",
       "    .dataframe thead th {\n",
       "        text-align: right;\n",
       "    }\n",
       "</style>\n",
       "<table border=\"1\" class=\"dataframe\">\n",
       "  <thead>\n",
       "    <tr style=\"text-align: right;\">\n",
       "      <th></th>\n",
       "      <th>id</th>\n",
       "      <th>gender</th>\n",
       "      <th>age</th>\n",
       "      <th>hypertension</th>\n",
       "      <th>heart_disease</th>\n",
       "      <th>ever_married</th>\n",
       "      <th>work_type</th>\n",
       "      <th>Residence_type</th>\n",
       "      <th>avg_glucose_level</th>\n",
       "      <th>bmi</th>\n",
       "      <th>smoking_status</th>\n",
       "      <th>stroke</th>\n",
       "    </tr>\n",
       "  </thead>\n",
       "  <tbody>\n",
       "    <tr>\n",
       "      <th>0</th>\n",
       "      <td>9046</td>\n",
       "      <td>Male</td>\n",
       "      <td>67.0</td>\n",
       "      <td>0</td>\n",
       "      <td>1</td>\n",
       "      <td>Yes</td>\n",
       "      <td>Private</td>\n",
       "      <td>Urban</td>\n",
       "      <td>228.69</td>\n",
       "      <td>36.6</td>\n",
       "      <td>formerly smoked</td>\n",
       "      <td>1</td>\n",
       "    </tr>\n",
       "    <tr>\n",
       "      <th>1</th>\n",
       "      <td>51676</td>\n",
       "      <td>Female</td>\n",
       "      <td>61.0</td>\n",
       "      <td>0</td>\n",
       "      <td>0</td>\n",
       "      <td>Yes</td>\n",
       "      <td>Self-employed</td>\n",
       "      <td>Rural</td>\n",
       "      <td>202.21</td>\n",
       "      <td>NaN</td>\n",
       "      <td>never smoked</td>\n",
       "      <td>1</td>\n",
       "    </tr>\n",
       "    <tr>\n",
       "      <th>2</th>\n",
       "      <td>31112</td>\n",
       "      <td>Male</td>\n",
       "      <td>80.0</td>\n",
       "      <td>0</td>\n",
       "      <td>1</td>\n",
       "      <td>Yes</td>\n",
       "      <td>Private</td>\n",
       "      <td>Rural</td>\n",
       "      <td>105.92</td>\n",
       "      <td>32.5</td>\n",
       "      <td>never smoked</td>\n",
       "      <td>1</td>\n",
       "    </tr>\n",
       "    <tr>\n",
       "      <th>3</th>\n",
       "      <td>60182</td>\n",
       "      <td>Female</td>\n",
       "      <td>49.0</td>\n",
       "      <td>0</td>\n",
       "      <td>0</td>\n",
       "      <td>Yes</td>\n",
       "      <td>Private</td>\n",
       "      <td>Urban</td>\n",
       "      <td>171.23</td>\n",
       "      <td>34.4</td>\n",
       "      <td>smokes</td>\n",
       "      <td>1</td>\n",
       "    </tr>\n",
       "    <tr>\n",
       "      <th>4</th>\n",
       "      <td>1665</td>\n",
       "      <td>Female</td>\n",
       "      <td>79.0</td>\n",
       "      <td>1</td>\n",
       "      <td>0</td>\n",
       "      <td>Yes</td>\n",
       "      <td>Self-employed</td>\n",
       "      <td>Rural</td>\n",
       "      <td>174.12</td>\n",
       "      <td>24.0</td>\n",
       "      <td>never smoked</td>\n",
       "      <td>1</td>\n",
       "    </tr>\n",
       "  </tbody>\n",
       "</table>\n",
       "</div>"
      ],
      "text/plain": [
       "      id  gender   age  hypertension  heart_disease ever_married  \\\n",
       "0   9046    Male  67.0             0              1          Yes   \n",
       "1  51676  Female  61.0             0              0          Yes   \n",
       "2  31112    Male  80.0             0              1          Yes   \n",
       "3  60182  Female  49.0             0              0          Yes   \n",
       "4   1665  Female  79.0             1              0          Yes   \n",
       "\n",
       "       work_type Residence_type  avg_glucose_level   bmi   smoking_status  \\\n",
       "0        Private          Urban             228.69  36.6  formerly smoked   \n",
       "1  Self-employed          Rural             202.21   NaN     never smoked   \n",
       "2        Private          Rural             105.92  32.5     never smoked   \n",
       "3        Private          Urban             171.23  34.4           smokes   \n",
       "4  Self-employed          Rural             174.12  24.0     never smoked   \n",
       "\n",
       "   stroke  \n",
       "0       1  \n",
       "1       1  \n",
       "2       1  \n",
       "3       1  \n",
       "4       1  "
      ]
     },
     "execution_count": 20,
     "metadata": {},
     "output_type": "execute_result"
    }
   ],
   "source": [
    "# First 5 rows of the dataset\n",
    "df.head()"
   ]
  },
  {
   "cell_type": "markdown",
   "id": "d2606fc5-850a-4a0b-acd3-6fee5a304240",
   "metadata": {},
   "source": [
    "### Data Cleaning"
   ]
  },
  {
   "cell_type": "markdown",
   "id": "1d0b8b76-a932-42bd-864d-7f16ea1841bd",
   "metadata": {},
   "source": [
    "#### 3.1 Checking null values"
   ]
  },
  {
   "cell_type": "code",
   "execution_count": 21,
   "id": "a69b3969-0482-445a-a9bb-c20a1c5c64ad",
   "metadata": {},
   "outputs": [
    {
     "name": "stdout",
     "output_type": "stream",
     "text": [
      "bmi 3.93346 % missing values\n"
     ]
    }
   ],
   "source": [
    "features_with_na = [features for features in df.columns if df[features].isnull().sum() >= 1]\n",
    "for feature in features_with_na:\n",
    "    print(feature, np.round(df[feature].isnull().mean()*100, 5), '% missing values')\n",
    "    "
   ]
  },
  {
   "cell_type": "code",
   "execution_count": 22,
   "id": "42e6eda4-49ca-4966-9725-b9bfeff0d060",
   "metadata": {},
   "outputs": [
    {
     "data": {
      "image/png": "[encoded data removed]",
      "text/plain": [
       "<Figure size 640x480 with 1 Axes>"
      ]
     },
     "metadata": {},
     "output_type": "display_data"
    }
   ],
   "source": [
    "# Visualizing the missing values\n",
    "df.isnull().sum()\n",
    "sns.heatmap(df.isnull(), cbar=False, cmap='viridis' )\n",
    "plt.title('Missing values in dataset')\n",
    "plt.show()"
   ]
  },
  {
   "cell_type": "markdown",
   "id": "56392850-e80e-4e69-bd6e-197ae2060019",
   "metadata": {},
   "source": [
    "#### 3.2 Other data cleaning steps"
   ]
  },
  {
   "cell_type": "markdown",
   "id": "78e92c5d-8eca-42a3-b1a1-1c2f4bffdec7",
   "metadata": {},
   "source": [
    "**Handling duplicates**"
   ]
  },
  {
   "cell_type": "code",
   "execution_count": 23,
   "id": "e0215bb8-0738-46f5-b8c3-d1ea5f1068f3",
   "metadata": {},
   "outputs": [
    {
     "data": {
      "text/plain": [
       "0"
      ]
     },
     "execution_count": 23,
     "metadata": {},
     "output_type": "execute_result"
    }
   ],
   "source": [
    "# checking for duplicates\n",
    "df.duplicated().sum()"
   ]
  },
  {
   "cell_type": "markdown",
   "id": "0d4072bf-b8f9-4f84-8a67-62e224db3c4d",
   "metadata": {},
   "source": [
    "**Remove ID from the dataset as it cannot used in the model training**\n",
    "**As the report from EDA we can drop `gender` and `Resident_type` as well**"
   ]
  },
  {
   "cell_type": "code",
   "execution_count": 24,
   "id": "c0c6e320-716e-444b-866b-47c71c69d2ea",
   "metadata": {},
   "outputs": [],
   "source": [
    "df.drop(['id', 'gender',  'Residence_type'], inplace=True, axis=1)"
   ]
  },
  {
   "cell_type": "markdown",
   "id": "71802138-3ece-4c93-8f1f-79ef5ad0952b",
   "metadata": {},
   "source": [
    "### Feature Engineerig"
   ]
  },
  {
   "cell_type": "markdown",
   "id": "2696466c-ea5a-4377-a6dc-d6254e0b0a88",
   "metadata": {},
   "source": [
    "#### Types of features"
   ]
  },
  {
   "cell_type": "markdown",
   "id": "b45c3d4f-1f69-4c4f-b0bf-f805f77df9fa",
   "metadata": {},
   "source": [
    "**Numeric Features**"
   ]
  },
  {
   "cell_type": "code",
   "execution_count": 25,
   "id": "b03f879f-6e82-4f88-93d5-e3eed81bb1d0",
   "metadata": {},
   "outputs": [
    {
     "name": "stdout",
     "output_type": "stream",
     "text": [
      "Number of numerical features:  6\n"
     ]
    },
    {
     "data": {
      "text/plain": [
       "['age', 'hypertension', 'heart_disease', 'avg_glucose_level', 'bmi', 'stroke']"
      ]
     },
     "execution_count": 25,
     "metadata": {},
     "output_type": "execute_result"
    }
   ],
   "source": [
    "numeric_features = [feature for feature in df.columns if df[feature].dtype != 'O']\n",
    "print('Number of numerical features: ', len(numeric_features))\n",
    "numeric_features"
   ]
  },
  {
   "cell_type": "markdown",
   "id": "af308682-3daf-4ef9-a2c3-012178492bc4",
   "metadata": {},
   "source": [
    "**Categorical Features**"
   ]
  },
  {
   "cell_type": "code",
   "execution_count": 26,
   "id": "6dc3158b-53fb-4238-b841-40de51f32a05",
   "metadata": {},
   "outputs": [
    {
     "name": "stdout",
     "output_type": "stream",
     "text": [
      "Number of categorical features:  3\n"
     ]
    },
    {
     "data": {
      "text/plain": [
       "['ever_married', 'work_type', 'smoking_status']"
      ]
     },
     "execution_count": 26,
     "metadata": {},
     "output_type": "execute_result"
    }
   ],
   "source": [
    "categorical_features = [feature for feature in df.columns if df[feature].dtype == 'O']\n",
    "print('Number of categorical features: ', len(categorical_features))\n",
    "categorical_features"
   ]
  },
  {
   "cell_type": "markdown",
   "id": "bb5a8cd9-3329-4464-a544-5eb6b7bb1465",
   "metadata": {},
   "source": [
    "**Discrete Features**"
   ]
  },
  {
   "cell_type": "code",
   "execution_count": 29,
   "id": "876a8ccd-c1b5-4fd3-ace7-fbbb0a3cd43a",
   "metadata": {},
   "outputs": [
    {
     "name": "stdout",
     "output_type": "stream",
     "text": [
      "Number of discrete features:  3\n"
     ]
    },
    {
     "data": {
      "text/plain": [
       "['hypertension', 'heart_disease', 'stroke']"
      ]
     },
     "execution_count": 29,
     "metadata": {},
     "output_type": "execute_result"
    }
   ],
   "source": [
    "discrete_features = [feature for feature in numeric_features if len(df[feature].unique()) <= 25]\n",
    "print('Number of discrete features: ', len(discrete_features))\n",
    "discrete_features"
   ]
  },
  {
   "cell_type": "markdown",
   "id": "d5f4a8b2-0eae-4830-8b29-101ce89f2f7d",
   "metadata": {},
   "source": [
    "**Continous Features**"
   ]
  },
  {
   "cell_type": "code",
   "execution_count": 30,
   "id": "c7c4e3f6-5c63-43cf-b098-6b0cf66e7e37",
   "metadata": {},
   "outputs": [
    {
     "name": "stdout",
     "output_type": "stream",
     "text": [
      "Num of Continuous Features : 3\n"
     ]
    },
    {
     "data": {
      "text/plain": [
       "['age', 'avg_glucose_level', 'bmi']"
      ]
     },
     "execution_count": 30,
     "metadata": {},
     "output_type": "execute_result"
    }
   ],
   "source": [
    "continuous_features=[feature for feature in numeric_features if len(df[feature].unique()) > 25]\n",
    "print('Num of Continuous Features :',len(continuous_features))\n",
    "continuous_features"
   ]
  },
  {
   "cell_type": "markdown",
   "id": "b9b3756e-a324-4e65-b68a-ab337e6669d6",
   "metadata": {},
   "source": [
    "#### Imputing null values to check VIF (Multi collinearity)"
   ]
  },
  {
   "cell_type": "code",
   "execution_count": 32,
   "id": "a1f9a243-990c-49a3-98bb-d9979e60bf4f",
   "metadata": {},
   "outputs": [],
   "source": [
    "# Create copy of dataframe to check variance inflation factor\n",
    "df1 = df.copy()\n",
    "for i in continuous_features:\n",
    "    df1[i].fillna(df1[i].median(), inplace=True)"
   ]
  },
  {
   "cell_type": "markdown",
   "id": "9ec3e6e5-ee10-4d2f-9f8d-4a1046605341",
   "metadata": {},
   "source": [
    "#### Multi-collinearity check"
   ]
  },
  {
   "cell_type": "markdown",
   "id": "66ee9573-f0a7-4970-b093-92c82c48b41b",
   "metadata": {},
   "source": [
    "**Variance Inflation Factor (VIF)**"
   ]
  },
  {
   "cell_type": "markdown",
   "id": "f165b514-0c36-45c2-98b9-f129a9d16dea",
   "metadata": {},
   "source": [
    "<ul>\n",
    "<li>Multicollinearity occurs when there are two or more independent variables in a multiple regression model, which have a high correlation among themselves. When some features are highly correlated.</li>\n",
    "<li>Multicollinearity can be detected using various techniques, one such technique being the Variance Inflation Factor(VIF).</li>\n",
    "</ul>"
   ]
  },
  {
   "cell_type": "code",
   "execution_count": 35,
   "id": "393236a8-8990-44c6-aacd-63d3b6c92808",
   "metadata": {},
   "outputs": [],
   "source": [
    "from statsmodels.stats.outliers_influence import variance_inflation_factor\n",
    "\n",
    "def compute_vif(considered_features, df):\n",
    "    X = df[considered_features]\n",
    "    # the calculation of variance inflation requires a constant\n",
    "    X['intercept'] = 1\n",
    "\n",
    "    # create a dataframe to store vif values\n",
    "    vif = pd.DataFrame()\n",
    "    vif['Variable'] = X.columns\n",
    "    vif['VIF'] = [variance_inflation_factor(X.values, i) for i in range(X.shape[1])]\n",
    "    vif = vif[vif['Variable'] != 'intercept']\n",
    "    return vif"
   ]
  },
  {
   "cell_type": "code",
   "execution_count": 36,
   "id": "4c832895-87bc-4542-b2b4-52429b71f427",
   "metadata": {},
   "outputs": [
    {
     "data": {
      "text/html": [
       "<div>\n",
       "<style scoped>\n",
       "    .dataframe tbody tr th:only-of-type {\n",
       "        vertical-align: middle;\n",
       "    }\n",
       "\n",
       "    .dataframe tbody tr th {\n",
       "        vertical-align: top;\n",
       "    }\n",
       "\n",
       "    .dataframe thead th {\n",
       "        text-align: right;\n",
       "    }\n",
       "</style>\n",
       "<table border=\"1\" class=\"dataframe\">\n",
       "  <thead>\n",
       "    <tr style=\"text-align: right;\">\n",
       "      <th></th>\n",
       "      <th>Variable</th>\n",
       "      <th>VIF</th>\n",
       "    </tr>\n",
       "  </thead>\n",
       "  <tbody>\n",
       "    <tr>\n",
       "      <th>0</th>\n",
       "      <td>age</td>\n",
       "      <td>1.162810</td>\n",
       "    </tr>\n",
       "    <tr>\n",
       "      <th>1</th>\n",
       "      <td>avg_glucose_level</td>\n",
       "      <td>1.070325</td>\n",
       "    </tr>\n",
       "    <tr>\n",
       "      <th>2</th>\n",
       "      <td>bmi</td>\n",
       "      <td>1.128268</td>\n",
       "    </tr>\n",
       "  </tbody>\n",
       "</table>\n",
       "</div>"
      ],
      "text/plain": [
       "            Variable       VIF\n",
       "0                age  1.162810\n",
       "1  avg_glucose_level  1.070325\n",
       "2                bmi  1.128268"
      ]
     },
     "execution_count": 36,
     "metadata": {},
     "output_type": "execute_result"
    }
   ],
   "source": [
    "compute_vif(continuous_features, df1)"
   ]
  },
  {
   "cell_type": "markdown",
   "id": "5733334c-f337-47b5-93f5-1ac47de5e308",
   "metadata": {},
   "source": [
    "<ul>\n",
    "<li>VIF determines the strength of the correlation between the independent variables. It is predicted by taking a variable and regressing it against every other variable</li>\n",
    "<li>VIF above 5 is indicator of Multicollinearity</li>\n",
    "</ul>\n"
   ]
  },
  {
   "cell_type": "markdown",
   "id": "9a029607-b880-439b-8126-578d8ee1ade2",
   "metadata": {},
   "source": [
    "**This dataset doesn't have any multicollinearity**"
   ]
  }
 ],
 "metadata": {
  "kernelspec": {
   "display_name": "hstroke",
   "language": "python",
   "name": "hstroke"
  },
  "language_info": {
   "codemirror_mode": {
    "name": "ipython",
    "version": 3
   },
   "file_extension": ".py",
   "mimetype": "text/x-python",
   "name": "python",
   "nbconvert_exporter": "python",
   "pygments_lexer": "ipython3",
   "version": "3.10.13"
  }
 },
 "nbformat": 4,
 "nbformat_minor": 5
}
